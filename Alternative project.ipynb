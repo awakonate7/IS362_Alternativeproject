{
 "cells": [
  {
   "cell_type": "code",
   "execution_count": null,
   "id": "a1c568c7",
   "metadata": {},
   "outputs": [],
   "source": [
    "Project - Read Chess Tournament Cross Table"
   ]
  },
  {
   "cell_type": "markdown",
   "id": "6a0b4ed6",
   "metadata": {},
   "source": [
    "In this project, you’re given a text file with chess tournament results where the information has some structure.\n",
    "\n",
    "Your job is to create a Jupyter Notebook that generates a .CSV file with the following information for all of the chess\n",
    "players:\n",
    "\n",
    "Player’s Name, Player’s State, Total Number of Points, Player’s Pre-Rating, and Average Pre Tournament Chess Rating of Opponents"
   ]
  },
  {
   "cell_type": "code",
   "execution_count": null,
   "id": "497176a1",
   "metadata": {},
   "outputs": [],
   "source": [
    "import pandas as pd\n",
    "import re\n",
    "import sys\n",
    "import numpy as np"
   ]
  },
  {
   "cell_type": "code",
   "execution_count": null,
   "id": "e2f56fe6",
   "metadata": {},
   "outputs": [],
   "source": [
    "textfile = open('tournamentinfo.txt')"
   ]
  },
  {
   "cell_type": "markdown",
   "id": "8080b3c5",
   "metadata": {},
   "source": [
    "View Tournament info"
   ]
  },
  {
   "cell_type": "code",
   "execution_count": null,
   "id": "10a4660c",
   "metadata": {},
   "outputs": [],
   "source": [
    "text_table = [line.strip() for line in textfile.readlines()]"
   ]
  },
  {
   "cell_type": "code",
   "execution_count": null,
   "id": "b07534c5",
   "metadata": {},
   "outputs": [],
   "source": [
    "text_table"
   ]
  },
  {
   "cell_type": "code",
   "execution_count": null,
   "id": "481d6c6b",
   "metadata": {},
   "outputs": [],
   "source": [
    "['-----------------------------------------------------------------------------------------',\n",
    " 'Pair | Player Name                     |Total|Round|Round|Round|Round|Round|Round|Round|',\n",
    " 'Num  | USCF ID / Rtg (Pre->Post)       | Pts |  1  |  2  |  3  |  4  |  5  |  6  |  7  |',\n",
    " '-----------------------------------------------------------------------------------------',\n",
    " '1 | GARY HUA                        |6.0  |W  39|W  21|W  18|W  14|W   7|D  12|D   4|',\n",
    " 'ON | 15445895 / R: 1794   ->1817     |N:2  |W    |B    |W    |B    |W    |B    |W    |',\n",
    " '-----------------------------------------------------------------------------------------',\n",
    " '2 | DAKSHESH DARURI                 |6.0  |W  63|W  58|L   4|W  17|W  16|W  20|W   7|',\n",
    " 'MI | 14598900 / R: 1553   ->1663     |N:2  |B    |W    |B    |W    |B    |W    |B    |',\n",
    " '-----------------------------------------------------------------------------------------',\n",
    " '3 | ADITYA BAJAJ                    |6.0  |L   8|W  61|W  25|W  21|W  11|W  13|W  12|',\n",
    " 'MI | 14959604 / R: 1384   ->1640     |N:2  |W    |B    |W    |B    |W    |B    |W    |',\n",
    " '-----------------------------------------------------------------------------------------',\n",
    " '4 | PATRICK H SCHILLING             |5.5  |W  23|D  28|W   2|W  26|D   5|W  19|D   1|',\n",
    " 'MI | 12616049 / R: 1716   ->1744     |N:2  |W    |B    |W    |B    |W    |B    |B    |',\n",
    " '-----------------------------------------------------------------------------------------',\n",
    " '5 | HANSHI ZUO                      |5.5  |W  45|W  37|D  12|D  13|D   4|W  14|W  17|',\n",
    " 'MI | 14601533 / R: 1655   ->1690     |N:2  |B    |W    |B    |W    |B    |W    |B    |',\n",
    " '-----------------------------------------------------------------------------------------',\n",
    " '6 | HANSEN SONG                     |5.0  |W  34|D  29|L  11|W  35|D  10|W  27|W  21|',\n",
    " 'OH | 15055204 / R: 1686   ->1687     |N:3  |W    |B    |W    |B    |B    |W    |B    |',\n",
    " '-----------------------------------------------------------------------------------------',\n",
    " '7 | GARY DEE SWATHELL               |5.0  |W  57|W  46|W  13|W  11|L   1|W   9|L   2|',\n",
    " 'MI | 11146376 / R: 1649   ->1673     |N:3  |W    |B    |W    |B    |B    |W    |W    |',\n",
    " '-----------------------------------------------------------------------------------------',\n",
    " '8 | EZEKIEL HOUGHTON                |5.0  |W   3|W  32|L  14|L   9|W  47|W  28|W  19|',\n",
    " 'MI | 15142253 / R: 1641P17->1657P24  |N:3  |B    |W    |B    |W    |B    |W    |W    |',\n",
    " '-----------------------------------------------------------------------------------------',\n",
    " '9 | STEFANO LEE                     |5.0  |W  25|L  18|W  59|W   8|W  26|L   7|W  20|',\n",
    " 'ON | 14954524 / R: 1411   ->1564     |N:2  |W    |B    |W    |B    |W    |B    |B    |',\n",
    " '-----------------------------------------------------------------------------------------',\n",
    " '10 | ANVIT RAO                       |5.0  |D  16|L  19|W  55|W  31|D   6|W  25|W  18|',\n",
    " 'MI | 14150362 / R: 1365   ->1544     |N:3  |W    |W    |B    |B    |W    |B    |W    |',\n",
    " '-----------------------------------------------------------------------------------------',\n",
    " '11 | CAMERON WILLIAM MC LEMAN        |4.5  |D  38|W  56|W   6|L   7|L   3|W  34|W  26|',\n",
    " 'MI | 12581589 / R: 1712   ->1696     |N:3  |B    |W    |B    |W    |B    |W    |B    |',\n",
    " '-----------------------------------------------------------------------------------------',\n",
    " '12 | KENNETH J TACK                  |4.5  |W  42|W  33|D   5|W  38|H    |D   1|L   3|',\n",
    " 'MI | 12681257 / R: 1663   ->1670     |N:3  |W    |B    |W    |B    |     |W    |B    |',\n",
    " '-----------------------------------------------------------------------------------------',\n",
    " '13 | TORRANCE HENRY JR               |4.5  |W  36|W  27|L   7|D   5|W  33|L   3|W  32|',\n",
    " 'MI | 15082995 / R: 1666   ->1662     |N:3  |B    |W    |B    |B    |W    |W    |B    |',\n",
    " '-----------------------------------------------------------------------------------------',\n",
    " '14 | BRADLEY SHAW                    |4.5  |W  54|W  44|W   8|L   1|D  27|L   5|W  31|',\n",
    " 'MI | 10131499 / R: 1610   ->1618     |N:3  |W    |B    |W    |W    |B    |B    |W    |',\n",
    " '-----------------------------------------------------------------------------------------',\n",
    " '15 | ZACHARY JAMES HOUGHTON          |4.5  |D  19|L  16|W  30|L  22|W  54|W  33|W  38|',\n",
    " 'MI | 15619130 / R: 1220P13->1416P20  |N:3  |B    |B    |W    |W    |B    |B    |W    |',\n",
    " '-----------------------------------------------------------------------------------------',\n",
    " '16 | MIKE NIKITIN                    |4.0  |D  10|W  15|H    |W  39|L   2|W  36|U    |',\n",
    " 'MI | 10295068 / R: 1604   ->1613     |N:3  |B    |W    |     |B    |W    |B    |     |',\n",
    " '-----------------------------------------------------------------------------------------',\n",
    " '17 | RONALD GRZEGORCZYK              |4.0  |W  48|W  41|L  26|L   2|W  23|W  22|L   5|',\n",
    " 'MI | 10297702 / R: 1629   ->1610     |N:3  |W    |B    |W    |B    |W    |B    |W    |',\n",
    " '-----------------------------------------------------------------------------------------',\n",
    " '18 | DAVID SUNDEEN                   |4.0  |W  47|W   9|L   1|W  32|L  19|W  38|L  10|',\n",
    " 'MI | 11342094 / R: 1600   ->1600     |N:3  |B    |W    |B    |W    |B    |W    |B    |',\n",
    " '-----------------------------------------------------------------------------------------',\n",
    " '19 | DIPANKAR ROY                    |4.0  |D  15|W  10|W  52|D  28|W  18|L   4|L   8|',\n",
    " 'MI | 14862333 / R: 1564   ->1570     |N:3  |W    |B    |W    |B    |W    |W    |B    |',\n",
    " '-----------------------------------------------------------------------------------------',\n",
    " '20 | JASON ZHENG                     |4.0  |L  40|W  49|W  23|W  41|W  28|L   2|L   9|',\n",
    " 'MI | 14529060 / R: 1595   ->1569     |N:4  |W    |B    |W    |B    |W    |B    |W    |',\n",
    " '-----------------------------------------------------------------------------------------',\n",
    " '21 | DINH DANG BUI                   |4.0  |W  43|L   1|W  47|L   3|W  40|W  39|L   6|',\n",
    " 'ON | 15495066 / R: 1563P22->1562     |N:3  |B    |W    |B    |W    |W    |B    |W    |',\n",
    " '-----------------------------------------------------------------------------------------',\n",
    " '22 | EUGENE L MCCLURE                |4.0  |W  64|D  52|L  28|W  15|H    |L  17|W  40|',\n",
    " 'MI | 12405534 / R: 1555   ->1529     |N:4  |W    |B    |W    |B    |     |W    |B    |',\n",
    " '-----------------------------------------------------------------------------------------',\n",
    " '23 | ALAN BUI                        |4.0  |L   4|W  43|L  20|W  58|L  17|W  37|W  46|',\n",
    " 'ON | 15030142 / R: 1363   ->1371     |     |B    |W    |B    |W    |B    |W    |B    |',\n",
    " '-----------------------------------------------------------------------------------------',\n",
    " '24 | MICHAEL R ALDRICH               |4.0  |L  28|L  47|W  43|L  25|W  60|W  44|W  39|',\n",
    " 'MI | 13469010 / R: 1229   ->1300     |N:4  |B    |W    |B    |B    |W    |W    |B    |',\n",
    " '-----------------------------------------------------------------------------------------',\n",
    " '25 | LOREN SCHWIEBERT                |3.5  |L   9|W  53|L   3|W  24|D  34|L  10|W  47|',\n",
    " 'MI | 12486656 / R: 1745   ->1681     |N:4  |B    |W    |B    |W    |B    |W    |B    |',\n",
    " '-----------------------------------------------------------------------------------------',\n",
    " '26 | MAX ZHU                         |3.5  |W  49|W  40|W  17|L   4|L   9|D  32|L  11|',\n",
    " 'ON | 15131520 / R: 1579   ->1564     |N:4  |B    |W    |B    |W    |B    |W    |W    |',\n",
    " '-----------------------------------------------------------------------------------------',\n",
    " '27 | GAURAV GIDWANI                  |3.5  |W  51|L  13|W  46|W  37|D  14|L   6|U    |',\n",
    " 'MI | 14476567 / R: 1552   ->1539     |N:4  |W    |B    |W    |B    |W    |B    |     |',\n",
    " '-----------------------------------------------------------------------------------------',\n",
    " '28 | SOFIA ADINA STANESCU-BELLU      |3.5  |W  24|D   4|W  22|D  19|L  20|L   8|D  36|',\n",
    " 'MI | 14882954 / R: 1507   ->1513     |N:3  |W    |W    |B    |W    |B    |B    |W    |',\n",
    " '-----------------------------------------------------------------------------------------',\n",
    " '29 | CHIEDOZIE OKORIE                |3.5  |W  50|D   6|L  38|L  34|W  52|W  48|U    |',\n",
    " 'MI | 15323285 / R: 1602P6 ->1508P12  |N:4  |B    |W    |B    |W    |W    |B    |     |',\n",
    " '-----------------------------------------------------------------------------------------',\n",
    " '30 | GEORGE AVERY JONES              |3.5  |L  52|D  64|L  15|W  55|L  31|W  61|W  50|',\n",
    " 'ON | 12577178 / R: 1522   ->1444     |     |W    |B    |B    |W    |W    |B    |B    |',\n",
    " '-----------------------------------------------------------------------------------------',\n",
    " '31 | RISHI SHETTY                    |3.5  |L  58|D  55|W  64|L  10|W  30|W  50|L  14|',\n",
    " 'MI | 15131618 / R: 1494   ->1444     |     |B    |W    |B    |W    |B    |W    |B    |',\n",
    " '-----------------------------------------------------------------------------------------',\n",
    " '32 | JOSHUA PHILIP MATHEWS           |3.5  |W  61|L   8|W  44|L  18|W  51|D  26|L  13|',\n",
    " 'ON | 14073750 / R: 1441   ->1433     |N:4  |W    |B    |W    |B    |W    |B    |W    |',\n",
    " '-----------------------------------------------------------------------------------------',\n",
    " '33 | JADE GE                         |3.5  |W  60|L  12|W  50|D  36|L  13|L  15|W  51|',\n",
    " 'MI | 14691842 / R: 1449   ->1421     |     |B    |W    |B    |W    |B    |W    |B    |',\n",
    " '-----------------------------------------------------------------------------------------',\n",
    " '34 | MICHAEL JEFFERY THOMAS          |3.5  |L   6|W  60|L  37|W  29|D  25|L  11|W  52|',\n",
    " 'MI | 15051807 / R: 1399   ->1400     |     |B    |W    |B    |B    |W    |B    |W    |',\n",
    " '-----------------------------------------------------------------------------------------',\n",
    " '35 | JOSHUA DAVID LEE                |3.5  |L  46|L  38|W  56|L   6|W  57|D  52|W  48|',\n",
    " 'MI | 14601397 / R: 1438   ->1392     |     |W    |W    |B    |W    |B    |B    |W    |',\n",
    " '-----------------------------------------------------------------------------------------',\n",
    " '36 | SIDDHARTH JHA                   |3.5  |L  13|W  57|W  51|D  33|H    |L  16|D  28|',\n",
    " 'MI | 14773163 / R: 1355   ->1367     |N:4  |W    |B    |W    |B    |     |W    |B    |',\n",
    " '-----------------------------------------------------------------------------------------',\n",
    " '37 | AMIYATOSH PWNANANDAM            |3.5  |B    |L   5|W  34|L  27|H    |L  23|W  61|',\n",
    " 'MI | 15489571 / R:  980P12->1077P17  |     |     |B    |W    |W    |     |B    |W    |',\n",
    " '-----------------------------------------------------------------------------------------',\n",
    " '38 | BRIAN LIU                       |3.0  |D  11|W  35|W  29|L  12|H    |L  18|L  15|',\n",
    " 'MI | 15108523 / R: 1423   ->1439     |N:4  |W    |B    |W    |W    |     |B    |B    |',\n",
    " '-----------------------------------------------------------------------------------------',\n",
    " '39 | JOEL R HENDON                   |3.0  |L   1|W  54|W  40|L  16|W  44|L  21|L  24|',\n",
    " 'MI | 12923035 / R: 1436P23->1413     |N:4  |B    |W    |B    |W    |B    |W    |W    |',\n",
    " '-----------------------------------------------------------------------------------------',\n",
    " '40 | FOREST ZHANG                    |3.0  |W  20|L  26|L  39|W  59|L  21|W  56|L  22|',\n",
    " 'MI | 14892710 / R: 1348   ->1346     |     |B    |B    |W    |W    |B    |W    |W    |',\n",
    " '-----------------------------------------------------------------------------------------',\n",
    " '41 | KYLE WILLIAM MURPHY             |3.0  |W  59|L  17|W  58|L  20|X    |U    |U    |',\n",
    " 'MI | 15761443 / R: 1403P5 ->1341P9   |     |B    |W    |B    |W    |     |     |     |',\n",
    " '-----------------------------------------------------------------------------------------',\n",
    " '42 | JARED GE                        |3.0  |L  12|L  50|L  57|D  60|D  61|W  64|W  56|',\n",
    " 'MI | 14462326 / R: 1332   ->1256     |     |B    |W    |B    |B    |W    |W    |B    |',\n",
    " '-----------------------------------------------------------------------------------------',\n",
    " '43 | ROBERT GLEN VASEY               |3.0  |L  21|L  23|L  24|W  63|W  59|L  46|W  55|',\n",
    " 'MI | 14101068 / R: 1283   ->1244     |     |W    |B    |W    |W    |B    |B    |W    |',\n",
    " '-----------------------------------------------------------------------------------------',\n",
    " '44 | JUSTIN D SCHILLING              |3.0  |B    |L  14|L  32|W  53|L  39|L  24|W  59|',\n",
    " 'MI | 15323504 / R: 1199   ->1199     |     |     |W    |B    |B    |W    |B    |W    |',\n",
    " '-----------------------------------------------------------------------------------------',\n",
    " '45 | DEREK YAN                       |3.0  |L   5|L  51|D  60|L  56|W  63|D  55|W  58|',\n",
    " 'MI | 15372807 / R: 1242   ->1191     |     |W    |B    |W    |B    |W    |B    |W    |',\n",
    " '-----------------------------------------------------------------------------------------',\n",
    " '46 | JACOB ALEXANDER LAVALLEY        |3.0  |W  35|L   7|L  27|L  50|W  64|W  43|L  23|',\n",
    " 'MI | 15490981 / R:  377P3 ->1076P10  |     |B    |W    |B    |W    |B    |W    |W    |',\n",
    " '-----------------------------------------------------------------------------------------',\n",
    " '47 | ERIC WRIGHT                     |2.5  |L  18|W  24|L  21|W  61|L   8|D  51|L  25|',\n",
    " 'MI | 12533115 / R: 1362   ->1341     |     |W    |B    |W    |B    |W    |B    |W    |',\n",
    " '-----------------------------------------------------------------------------------------',\n",
    " '48 | DANIEL KHAIN                    |2.5  |L  17|W  63|H    |D  52|H    |L  29|L  35|',\n",
    " 'MI | 14369165 / R: 1382   ->1335     |     |B    |W    |     |B    |     |W    |B    |',\n",
    " '-----------------------------------------------------------------------------------------',\n",
    " '49 | MICHAEL J MARTIN                |2.5  |L  26|L  20|D  63|D  64|W  58|H    |U    |',\n",
    " 'MI | 12531685 / R: 1291P12->1259P17  |     |W    |W    |B    |W    |B    |     |     |',\n",
    " '-----------------------------------------------------------------------------------------',\n",
    " '50 | SHIVAM JHA                      |2.5  |L  29|W  42|L  33|W  46|H    |L  31|L  30|',\n",
    " 'MI | 14773178 / R: 1056   ->1111     |     |W    |B    |W    |B    |     |B    |W    |',\n",
    " '-----------------------------------------------------------------------------------------',\n",
    " '51 | TEJAS AYYAGARI                  |2.5  |L  27|W  45|L  36|W  57|L  32|D  47|L  33|',\n",
    " 'MI | 15205474 / R: 1011   ->1097     |     |B    |W    |B    |W    |B    |W    |W    |',\n",
    " '-----------------------------------------------------------------------------------------',\n",
    " '52 | ETHAN GUO                       |2.5  |W  30|D  22|L  19|D  48|L  29|D  35|L  34|',\n",
    " 'MI | 14918803 / R:  935   ->1092     |N:4  |B    |W    |B    |W    |B    |W    |B    |',\n",
    " '-----------------------------------------------------------------------------------------',\n",
    " '53 | JOSE C YBARRA                   |2.0  |H    |L  25|H    |L  44|U    |W  57|U    |',\n",
    " 'MI | 12578849 / R: 1393   ->1359     |     |     |B    |     |W    |     |W    |     |',\n",
    " '-----------------------------------------------------------------------------------------',\n",
    " '54 | LARRY HODGE                     |2.0  |L  14|L  39|L  61|B    |L  15|L  59|W  64|',\n",
    " 'MI | 12836773 / R: 1270   ->1200     |     |B    |B    |W    |     |W    |B    |W    |',\n",
    " '-----------------------------------------------------------------------------------------',\n",
    " '55 | ALEX KONG                       |2.0  |L  62|D  31|L  10|L  30|B    |D  45|L  43|',\n",
    " 'MI | 15412571 / R: 1186   ->1163     |     |W    |B    |W    |B    |     |W    |B    |',\n",
    " '-----------------------------------------------------------------------------------------',\n",
    " '56 | MARISA RICCI                    |2.0  |H    |L  11|L  35|W  45|H    |L  40|L  42|',\n",
    " 'MI | 14679887 / R: 1153   ->1140     |     |     |B    |W    |W    |     |B    |W    |',\n",
    " '-----------------------------------------------------------------------------------------',\n",
    " '57 | MICHAEL LU                      |2.0  |L   7|L  36|W  42|L  51|L  35|L  53|B    |',\n",
    " 'MI | 15113330 / R: 1092   ->1079     |     |B    |W    |W    |B    |W    |B    |     |',\n",
    " '-----------------------------------------------------------------------------------------',\n",
    " '58 | VIRAJ MOHILE                    |2.0  |W  31|L   2|L  41|L  23|L  49|B    |L  45|',\n",
    " 'MI | 14700365 / R:  917   -> 941     |     |W    |B    |W    |B    |W    |     |B    |',\n",
    " '-----------------------------------------------------------------------------------------',\n",
    " '59 | SEAN M MC CORMICK               |2.0  |L  41|B    |L   9|L  40|L  43|W  54|L  44|',\n",
    " 'MI | 12841036 / R:  853   -> 878     |     |W    |     |B    |B    |W    |W    |B    |',\n",
    " '-----------------------------------------------------------------------------------------',\n",
    " '60 | JULIA SHEN                      |1.5  |L  33|L  34|D  45|D  42|L  24|H    |U    |',\n",
    " 'MI | 14579262 / R:  967   -> 984     |     |W    |B    |B    |W    |B    |     |     |',\n",
    " '-----------------------------------------------------------------------------------------',\n",
    " '61 | JEZZEL FARKAS                   |1.5  |L  32|L   3|W  54|L  47|D  42|L  30|L  37|',\n",
    " 'ON | 15771592 / R:  955P11-> 979P18  |     |B    |W    |B    |W    |B    |W    |B    |',\n",
    " '-----------------------------------------------------------------------------------------',\n",
    " '62 | ASHWIN BALAJI                   |1.0  |W  55|U    |U    |U    |U    |U    |U    |',\n",
    " 'MI | 15219542 / R: 1530   ->1535     |     |B    |     |     |     |     |     |     |',\n",
    " '-----------------------------------------------------------------------------------------',\n",
    " '63 | THOMAS JOSEPH HOSMER            |1.0  |L   2|L  48|D  49|L  43|L  45|H    |U    |',\n",
    " 'MI | 15057092 / R: 1175   ->1125     |     |W    |B    |W    |B    |B    |     |     |',\n",
    " '-----------------------------------------------------------------------------------------',\n",
    " '64 | BEN LI                          |1.0  |L  22|D  30|L  31|D  49|L  46|L  42|L  54|',\n",
    " 'MI | 15006561 / R: 1163   ->1112     |     |B    |W    |W    |B    |W    |B    |B    |',\n",
    " '-----------------------------------------------------------------------------------------']"
   ]
  },
  {
   "cell_type": "code",
   "execution_count": null,
   "id": "8ce2ff08",
   "metadata": {},
   "outputs": [],
   "source": [
    "The data is sucessfully implemented into the notebook! However, it can be cleaned for easier understanding and to caluculate total points and Player’s Pre-Rating, and Average Pre Tournament Chess Rating of Opponents."
   ]
  },
  {
   "cell_type": "code",
   "execution_count": null,
   "id": "7b409a50",
   "metadata": {},
   "outputs": [],
   "source": [
    "player_state = []\n",
    "player_number = []\n",
    "id_data = []\n",
    "name_data = []"
   ]
  },
  {
   "cell_type": "code",
   "execution_count": null,
   "id": "245deb91",
   "metadata": {},
   "outputs": [],
   "source": [
    "#Use regex\n",
    "state = '([A-Z]{2})'\n",
    "number = '([0-9]{1})'\n",
    "dash = '^-'"
   ]
  },
  {
   "cell_type": "markdown",
   "id": "ed0e02f3",
   "metadata": {},
   "source": [
    "The original textfile is formatted with various dashes and some data cells are over-filled. Before we can answer thus projects question s we will need to re-format the chess data."
   ]
  },
  {
   "cell_type": "code",
   "execution_count": null,
   "id": "9801f7fb",
   "metadata": {},
   "outputs": [],
   "source": [
    "# Let's start by\n",
    "for line in text_table:\n",
    "    if not re.search(dash, line):\n",
    "        if re.search(state, line) and not re.search(dash, line):\n",
    "            text =  line.replace('/', '').replace('-','').replace('>','').replace(':','')\n",
    "            state_num = text.strip().replace('|', ',')[:3].strip(',')\n",
    "            if re.search(state, state_num):\n",
    "                player_state.append(state_num)\n",
    "                id_data.append(text[5:].strip('').replace('|',','))\n",
    "            elif re.search(number, state_num):\n",
    "                name_data.append(text[4:].strip().replace('|',','))\n",
    "                player_number.append(state_num)\n"
   ]
  },
  {
   "cell_type": "code",
   "execution_count": null,
   "id": "5b69e963",
   "metadata": {},
   "outputs": [],
   "source": [
    "player_names = []\n",
    "rounds = []\n",
    "uscf_id = []\n",
    "ratings = []\n",
    "total_points = []"
   ]
  },
  {
   "cell_type": "code",
   "execution_count": null,
   "id": "d12a11a3",
   "metadata": {},
   "outputs": [],
   "source": [
    "for item in name_data:\n",
    "    total_points.append(float(item[33:36]))\n",
    "    player_names.append(item[:28].split())\n",
    "    rounds.append(item[39:].replace(' ', '' ).strip(',').split(','))"
   ]
  },
  {
   "cell_type": "code",
   "execution_count": null,
   "id": "7f6dd729",
   "metadata": {},
   "outputs": [],
   "source": [
    "So far"
   ]
  },
  {
   "cell_type": "code",
   "execution_count": null,
   "id": "c85f86ce",
   "metadata": {},
   "outputs": [],
   "source": [
    "pd.options.display.max_rows = 70"
   ]
  },
  {
   "cell_type": "code",
   "execution_count": null,
   "id": "3246948a",
   "metadata": {},
   "outputs": [],
   "source": [
    "chess_df = pd.DataFrame(rounds, columns = ['Round1','Round2','Round3','Round4','Round5','Round6','Round7'],\n",
    "                   index = [player for player in player_number])"
   ]
  },
  {
   "cell_type": "code",
   "execution_count": null,
   "id": "20799801",
   "metadata": {},
   "outputs": [],
   "source": [
    "for item in id_data:\n",
    "    uscf_id.append(item.replace('R', '').replace('P', ' ')[:8])\n",
    "    ratings.append(item.replace('R', '').replace('P', ' ')[11:16])"
   ]
  },
  {
   "cell_type": "code",
   "execution_count": null,
   "id": "278b0cdc",
   "metadata": {},
   "outputs": [],
   "source": [
    "chess_df['Ratings'] = [rate for rate in ratings]\n",
    "chess_df['Total_Points'] = [n for n in total_points]\n",
    "chess_df['Player_ID'] = [n for n in player_number]\n",
    "chess_df['State'] = [state for state in player_state]\n",
    "chess_df['Player_Names'] = [player for player in player_names]"
   ]
  },
  {
   "cell_type": "markdown",
   "id": "d1c3cc9b",
   "metadata": {},
   "source": [
    "Let's reformat the Round Columns by removing white space and building a list like collection for our tournament points."
   ]
  },
  {
   "cell_type": "code",
   "execution_count": null,
   "id": "4a3bd01c",
   "metadata": {},
   "outputs": [],
   "source": [
    "#round 1\n",
    "chess_df['Round1'] = chess_df['Round1'].map(lambda x: x.lstrip('W')).map(lambda x: x.lstrip('U'))\n",
    "chess_df['Round1'] = chess_df['Round1'].map(lambda x: x.lstrip('D')).map(lambda x: x.lstrip('L'))\n",
    "chess_df['Round1'] = chess_df['Round1'].map(lambda x: x.lstrip('H')).map(lambda x: x.lstrip('B'))\n",
    "chess_df['Round1'] = chess_df['Round1'].map(lambda x: x.lstrip('X'))"
   ]
  },
  {
   "cell_type": "code",
   "execution_count": null,
   "id": "0a70cd64",
   "metadata": {},
   "outputs": [],
   "source": [
    "#round 2\n",
    "chess_df['Round2'] = chess_df['Round2'].map(lambda x: x.lstrip('W')).map(lambda x: x.lstrip('U'))\n",
    "chess_df['Round2'] = chess_df['Round2'].map(lambda x: x.lstrip('D')).map(lambda x: x.lstrip('L'))\n",
    "chess_df['Round2'] = chess_df['Round2'].map(lambda x: x.lstrip('H')).map(lambda x: x.lstrip('B'))\n",
    "chess_df['Round2'] = chess_df['Round2'].map(lambda x: x.lstrip('X'))"
   ]
  },
  {
   "cell_type": "code",
   "execution_count": null,
   "id": "540ac9e4",
   "metadata": {},
   "outputs": [],
   "source": [
    "#round 3\n",
    "chess_df['Round3'] = chess_df['Round3'].map(lambda x: x.lstrip('W')).map(lambda x: x.lstrip('U'))\n",
    "chess_df['Round3'] = chess_df['Round3'].map(lambda x: x.lstrip('D')).map(lambda x: x.lstrip('L'))\n",
    "chess_df['Round3'] = chess_df['Round3'].map(lambda x: x.lstrip('H')).map(lambda x: x.lstrip('B'))\n",
    "chess_df['Round3'] = chess_df['Round3'].map(lambda x: x.lstrip('X'))"
   ]
  },
  {
   "cell_type": "code",
   "execution_count": null,
   "id": "9d7c9c9b",
   "metadata": {},
   "outputs": [],
   "source": [
    "#round 4\n",
    "chess_df['Round4'] = chess_df['Round4'].map(lambda x: x.lstrip('W')).map(lambda x: x.lstrip('U'))\n",
    "chess_df['Round4'] = chess_df['Round4'].map(lambda x: x.lstrip('D')).map(lambda x: x.lstrip('L'))\n",
    "chess_df['Round4'] = chess_df['Round4'].map(lambda x: x.lstrip('H')).map(lambda x: x.lstrip('B'))\n",
    "chess_df['Round4'] = chess_df['Round4'].map(lambda x: x.lstrip('X'))"
   ]
  },
  {
   "cell_type": "code",
   "execution_count": null,
   "id": "1dc75e66",
   "metadata": {},
   "outputs": [],
   "source": [
    "#round 5\n",
    "chess_df['Round5'] = chess_df['Round5'].map(lambda x: x.lstrip('W')).map(lambda x: x.lstrip('U'))\n",
    "chess_df['Round5'] = chess_df['Round5'].map(lambda x: x.lstrip('D')).map(lambda x: x.lstrip('L'))\n",
    "chess_df['Round5'] = chess_df['Round5'].map(lambda x: x.lstrip('H')).map(lambda x: x.lstrip('B'))\n",
    "chess_df['Round5'] = chess_df['Round5'].map(lambda x: x.lstrip('X'))"
   ]
  },
  {
   "cell_type": "code",
   "execution_count": null,
   "id": "5adf9b47",
   "metadata": {},
   "outputs": [],
   "source": [
    "#round 6\n",
    "chess_df['Round6'] = chess_df['Round6'].map(lambda x: x.lstrip('W')).map(lambda x: x.lstrip('U'))\n",
    "chess_df['Round6'] = chess_df['Round6'].map(lambda x: x.lstrip('D')).map(lambda x: x.lstrip('L'))\n",
    "chess_df['Round6'] = chess_df['Round6'].map(lambda x: x.lstrip('H')).map(lambda x: x.lstrip('B'))\n",
    "chess_df['Round6'] = chess_df['Round6'].map(lambda x: x.lstrip('X'))"
   ]
  },
  {
   "cell_type": "code",
   "execution_count": null,
   "id": "5b581b15",
   "metadata": {},
   "outputs": [],
   "source": [
    "#round 7\n",
    "chess_df['Round7'] = chess_df['Round7'].map(lambda x: x.lstrip('W')).map(lambda x: x.lstrip('U'))\n",
    "chess_df['Round7'] = chess_df['Round7'].map(lambda x: x.lstrip('D')).map(lambda x: x.lstrip('L'))\n",
    "chess_df['Round7'] = chess_df['Round7'].map(lambda x: x.lstrip('H')).map(lambda x: x.lstrip('B'))\n",
    "chess_df['Round7'] = chess_df['Round7'].map(lambda x: x.lstrip('X'))"
   ]
  },
  {
   "cell_type": "markdown",
   "id": "2443fd70",
   "metadata": {},
   "source": [
    "Continuing with cleaning the round columns, in the original dataset some rounds have a blank space we'll replace the blank with 0."
   ]
  },
  {
   "cell_type": "code",
   "execution_count": null,
   "id": "66b44335",
   "metadata": {},
   "outputs": [],
   "source": [
    "chess_df['Round1'].replace('', 0, inplace=True)\n",
    "chess_df['Round2'].replace('', 0, inplace=True)\n",
    "chess_df['Round3'].replace('', 0, inplace=True)\n",
    "chess_df['Round4'].replace('', 0, inplace=True)\n",
    "chess_df['Round5'].replace('', 0, inplace=True)\n",
    "chess_df['Round6'].replace('', 0, inplace=True)\n",
    "chess_df['Round7'].replace('', 0, inplace=True)"
   ]
  },
  {
   "cell_type": "markdown",
   "id": "0d11488e",
   "metadata": {},
   "source": [
    "Check the data formatting to check cleaning progress and note of any required changes"
   ]
  },
  {
   "cell_type": "code",
   "execution_count": null,
   "id": "666270ba",
   "metadata": {},
   "outputs": [],
   "source": [
    "chess_df"
   ]
  },
  {
   "cell_type": "code",
   "execution_count": null,
   "id": "7d005c16",
   "metadata": {},
   "outputs": [],
   "source": [
    "\tRound1\tRound2\tRound3\tRound4\tRound5\tRound6\tRound7\tRatings\tTotal_Points\tPlayer_ID\tState\tPlayer_Names\n",
    "1\t39\t21\t18\t14\t7\t12\t4\t1794\t6.0\t1\tON\t[GARY, HUA]\n",
    "2\t63\t58\t4\t17\t16\t20\t7\t1553\t6.0\t2\tMI\t[DAKSHESH, DARURI]\n",
    "3\t8\t61\t25\t21\t11\t13\t12\t1384\t6.0\t3\tMI\t[ADITYA, BAJAJ]\n",
    "4\t23\t28\t2\t26\t5\t19\t1\t1716\t5.5\t4\tMI\t[PATRICK, H, SCHILLING]\n",
    "5\t45\t37\t12\t13\t4\t14\t17\t1655\t5.5\t5\tMI\t[HANSHI, ZUO]\n",
    "6\t34\t29\t11\t35\t10\t27\t21\t1686\t5.0\t6\tOH\t[HANSEN, SONG]\n",
    "7\t57\t46\t13\t11\t1\t9\t2\t1649\t5.0\t7\tMI\t[GARY, DEE, SWATHELL]\n",
    "8\t3\t32\t14\t9\t47\t28\t19\t1641\t5.0\t8\tMI\t[EZEKIEL, HOUGHTON]\n",
    "9\t25\t18\t59\t8\t26\t7\t20\t1411\t5.0\t9\tON\t[STEFANO, LEE]\n",
    "10\t16\t19\t55\t31\t6\t25\t18\t1365\t5.0\t10\tMI\t[ANVIT, RAO]\n",
    "11\t38\t56\t6\t7\t3\t34\t26\t1712\t4.5\t11\tMI\t[CAMERON, WILLIAM, MC, LEMAN]\n",
    "12\t42\t33\t5\t38\t0\t1\t3\t1663\t4.5\t12\tMI\t[KENNETH, J, TACK]\n",
    "13\t36\t27\t7\t5\t33\t3\t32\t1666\t4.5\t13\tMI\t[TORRANCE, HENRY, JR]\n",
    "14\t54\t44\t8\t1\t27\t5\t31\t1610\t4.5\t14\tMI\t[BRADLEY, SHAW]\n",
    "15\t19\t16\t30\t22\t54\t33\t38\t1220\t4.5\t15\tMI\t[ZACHARY, JAMES, HOUGHTON]\n",
    "16\t10\t15\t0\t39\t2\t36\t0\t1604\t4.0\t16\tMI\t[MIKE, NIKITIN]\n",
    "17\t48\t41\t26\t2\t23\t22\t5\t1629\t4.0\t17\tMI\t[RONALD, GRZEGORCZYK]\n",
    "18\t47\t9\t1\t32\t19\t38\t10\t1600\t4.0\t18\tMI\t[DAVID, SUNDEEN]\n",
    "19\t15\t10\t52\t28\t18\t4\t8\t1564\t4.0\t19\tMI\t[DIPANKAR, ROY]\n",
    "20\t40\t49\t23\t41\t28\t2\t9\t1595\t4.0\t20\tMI\t[JASON, ZHENG]\n",
    "21\t43\t1\t47\t3\t40\t39\t6\t1563\t4.0\t21\tON\t[DINH, DANG, BUI]\n",
    "22\t64\t52\t28\t15\t0\t17\t40\t1555\t4.0\t22\tMI\t[EUGENE, L, MCCLURE]\n",
    "23\t4\t43\t20\t58\t17\t37\t46\t1363\t4.0\t23\tON\t[ALAN, BUI]\n",
    "24\t28\t47\t43\t25\t60\t44\t39\t1229\t4.0\t24\tMI\t[MICHAEL, R, ALDRICH]\n",
    "25\t9\t53\t3\t24\t34\t10\t47\t1745\t3.5\t25\tMI\t[LOREN, SCHWIEBERT]\n",
    "26\t49\t40\t17\t4\t9\t32\t11\t1579\t3.5\t26\tON\t[MAX, ZHU]\n",
    "27\t51\t13\t46\t37\t14\t6\t0\t1552\t3.5\t27\tMI\t[GAURAV, GIDWANI]\n",
    "28\t24\t4\t22\t19\t20\t8\t36\t1507\t0.5\t28\tMI\t[SOFIA, ADINA, STANESCUBELLU]\n",
    "29\t50\t6\t38\t34\t52\t48\t0\t1602\t3.5\t29\tMI\t[CHIEDOZIE, OKORIE]\n",
    "30\t52\t64\t15\t55\t31\t61\t50\t1522\t3.5\t30\tON\t[GEORGE, AVERY, JONES]\n",
    "31\t58\t55\t64\t10\t30\t50\t14\t1494\t3.5\t31\tMI\t[RISHI, SHETTY]\n",
    "32\t61\t8\t44\t18\t51\t26\t13\t1441\t3.5\t32\tON\t[JOSHUA, PHILIP, MATHEWS]\n",
    "33\t60\t12\t50\t36\t13\t15\t51\t1449\t3.5\t33\tMI\t[JADE, GE]\n",
    "34\t6\t60\t37\t29\t25\t11\t52\t1399\t3.5\t34\tMI\t[MICHAEL, JEFFERY, THOMAS]\n",
    "35\t46\t38\t56\t6\t57\t52\t48\t1438\t3.5\t35\tMI\t[JOSHUA, DAVID, LEE]\n",
    "36\t13\t57\t51\t33\t0\t16\t28\t1355\t3.5\t36\tMI\t[SIDDHARTH, JHA]\n",
    "37\t0\t5\t34\t27\t0\t23\t61\t980\t3.5\t37\tMI\t[AMIYATOSH, PWNANANDAM]\n",
    "38\t11\t35\t29\t12\t0\t18\t15\t1423\t3.0\t38\tMI\t[BRIAN, LIU]\n",
    "39\t1\t54\t40\t16\t44\t21\t24\t1436\t3.0\t39\tMI\t[JOEL, R, HENDON]\n",
    "40\t20\t26\t39\t59\t21\t56\t22\t1348\t3.0\t40\tMI\t[FOREST, ZHANG]\n",
    "41\t59\t17\t58\t20\t0\t0\t0\t1403\t3.0\t41\tMI\t[KYLE, WILLIAM, MURPHY]\n",
    "42\t12\t50\t57\t60\t61\t64\t56\t1332\t3.0\t42\tMI\t[JARED, GE]\n",
    "43\t21\t23\t24\t63\t59\t46\t55\t1283\t3.0\t43\tMI\t[ROBERT, GLEN, VASEY]\n",
    "44\t0\t14\t32\t53\t39\t24\t59\t1199\t3.0\t44\tMI\t[JUSTIN, D, SCHILLING]\n",
    "45\t5\t51\t60\t56\t63\t55\t58\t1242\t3.0\t45\tMI\t[DEREK, YAN]\n",
    "46\t35\t7\t27\t50\t64\t43\t23\t377\t3.0\t46\tMI\t[JACOB, ALEXANDER, LAVALLEY]\n",
    "47\t18\t24\t21\t61\t8\t51\t25\t1362\t2.5\t47\tMI\t[ERIC, WRIGHT]\n",
    "48\t17\t63\t0\t52\t0\t29\t35\t1382\t2.5\t48\tMI\t[DANIEL, KHAIN]\n",
    "49\t26\t20\t63\t64\t58\t0\t0\t1291\t2.5\t49\tMI\t[MICHAEL, J, MARTIN]\n",
    "50\t29\t42\t33\t46\t0\t31\t30\t1056\t2.5\t50\tMI\t[SHIVAM, JHA]\n",
    "51\t27\t45\t36\t57\t32\t47\t33\t1011\t2.5\t51\tMI\t[TEJAS, AYYAGARI]\n",
    "52\t30\t22\t19\t48\t29\t35\t34\t935\t2.5\t52\tMI\t[ETHAN, GUO]\n",
    "53\t0\t25\t0\t44\t0\t57\t0\t1393\t2.0\t53\tMI\t[JOSE, C, YBARRA]\n",
    "54\t14\t39\t61\t0\t15\t59\t64\t1270\t2.0\t54\tMI\t[LARRY, HODGE]\n",
    "55\t62\t31\t10\t30\t0\t45\t43\t1186\t2.0\t55\tMI\t[ALEX, KONG]\n",
    "56\t0\t11\t35\t45\t0\t40\t42\t1153\t2.0\t56\tMI\t[MARISA, RICCI]\n",
    "57\t7\t36\t42\t51\t35\t53\t0\t1092\t2.0\t57\tMI\t[MICHAEL, LU]\n",
    "58\t31\t2\t41\t23\t49\t0\t45\t917\t2.0\t58\tMI\t[VIRAJ, MOHILE]\n",
    "59\t41\t0\t9\t40\t43\t54\t44\t853\t2.0\t59\tMI\t[SEAN, M, MC, CORMICK]\n",
    "60\t33\t34\t45\t42\t24\t0\t0\t967\t1.5\t60\tMI\t[JULIA, SHEN]\n",
    "61\t32\t3\t54\t47\t42\t30\t37\t955\t1.5\t61\tON\t[JEZZEL, FARKAS]\n",
    "62\t55\t0\t0\t0\t0\t0\t0\t1530\t1.0\t62\tMI\t[ASHWIN, BALAJI]\n",
    "63\t2\t48\t49\t43\t45\t0\t0\t1175\t1.0\t63\tMI\t[THOMAS, JOSEPH, HOSMER]\n",
    "64\t22\t30\t31\t49\t46\t42\t54\t1163\t1.0\t64\tMI\t[BEN, LI]"
   ]
  },
  {
   "cell_type": "markdown",
   "id": "49f1064d",
   "metadata": {},
   "source": [
    "Replace index with Players Name so Players are identified first."
   ]
  },
  {
   "cell_type": "code",
   "execution_count": null,
   "id": "940bba93",
   "metadata": {},
   "outputs": [],
   "source": [
    "chess_df.set_index(['Player_Names'])"
   ]
  },
  {
   "cell_type": "code",
   "execution_count": null,
   "id": "761bb466",
   "metadata": {},
   "outputs": [],
   "source": [
    "\tRound1\tRound2\tRound3\tRound4\tRound5\tRound6\tRound7\tRatings\tTotal_Points\tPlayer_ID\tState\n",
    "Player_Names\t\t\t\t\t\t\t\t\t\t\t\n",
    "[GARY, HUA]\t39\t21\t18\t14\t7\t12\t4\t1794\t6.0\t1\tON\n",
    "[DAKSHESH, DARURI]\t63\t58\t4\t17\t16\t20\t7\t1553\t6.0\t2\tMI\n",
    "[ADITYA, BAJAJ]\t8\t61\t25\t21\t11\t13\t12\t1384\t6.0\t3\tMI\n",
    "[PATRICK, H, SCHILLING]\t23\t28\t2\t26\t5\t19\t1\t1716\t5.5\t4\tMI\n",
    "[HANSHI, ZUO]\t45\t37\t12\t13\t4\t14\t17\t1655\t5.5\t5\tMI\n",
    "[HANSEN, SONG]\t34\t29\t11\t35\t10\t27\t21\t1686\t5.0\t6\tOH\n",
    "[GARY, DEE, SWATHELL]\t57\t46\t13\t11\t1\t9\t2\t1649\t5.0\t7\tMI\n",
    "[EZEKIEL, HOUGHTON]\t3\t32\t14\t9\t47\t28\t19\t1641\t5.0\t8\tMI\n",
    "[STEFANO, LEE]\t25\t18\t59\t8\t26\t7\t20\t1411\t5.0\t9\tON\n",
    "[ANVIT, RAO]\t16\t19\t55\t31\t6\t25\t18\t1365\t5.0\t10\tMI\n",
    "[CAMERON, WILLIAM, MC, LEMAN]\t38\t56\t6\t7\t3\t34\t26\t1712\t4.5\t11\tMI\n",
    "[KENNETH, J, TACK]\t42\t33\t5\t38\t0\t1\t3\t1663\t4.5\t12\tMI\n",
    "[TORRANCE, HENRY, JR]\t36\t27\t7\t5\t33\t3\t32\t1666\t4.5\t13\tMI\n",
    "[BRADLEY, SHAW]\t54\t44\t8\t1\t27\t5\t31\t1610\t4.5\t14\tMI\n",
    "[ZACHARY, JAMES, HOUGHTON]\t19\t16\t30\t22\t54\t33\t38\t1220\t4.5\t15\tMI\n",
    "[MIKE, NIKITIN]\t10\t15\t0\t39\t2\t36\t0\t1604\t4.0\t16\tMI\n",
    "[RONALD, GRZEGORCZYK]\t48\t41\t26\t2\t23\t22\t5\t1629\t4.0\t17\tMI\n",
    "[DAVID, SUNDEEN]\t47\t9\t1\t32\t19\t38\t10\t1600\t4.0\t18\tMI\n",
    "[DIPANKAR, ROY]\t15\t10\t52\t28\t18\t4\t8\t1564\t4.0\t19\tMI\n",
    "[JASON, ZHENG]\t40\t49\t23\t41\t28\t2\t9\t1595\t4.0\t20\tMI\n",
    "[DINH, DANG, BUI]\t43\t1\t47\t3\t40\t39\t6\t1563\t4.0\t21\tON\n",
    "[EUGENE, L, MCCLURE]\t64\t52\t28\t15\t0\t17\t40\t1555\t4.0\t22\tMI\n",
    "[ALAN, BUI]\t4\t43\t20\t58\t17\t37\t46\t1363\t4.0\t23\tON\n",
    "[MICHAEL, R, ALDRICH]\t28\t47\t43\t25\t60\t44\t39\t1229\t4.0\t24\tMI\n",
    "[LOREN, SCHWIEBERT]\t9\t53\t3\t24\t34\t10\t47\t1745\t3.5\t25\tMI\n",
    "[MAX, ZHU]\t49\t40\t17\t4\t9\t32\t11\t1579\t3.5\t26\tON\n",
    "[GAURAV, GIDWANI]\t51\t13\t46\t37\t14\t6\t0\t1552\t3.5\t27\tMI\n",
    "[SOFIA, ADINA, STANESCUBELLU]\t24\t4\t22\t19\t20\t8\t36\t1507\t0.5\t28\tMI\n",
    "[CHIEDOZIE, OKORIE]\t50\t6\t38\t34\t52\t48\t0\t1602\t3.5\t29\tMI\n",
    "[GEORGE, AVERY, JONES]\t52\t64\t15\t55\t31\t61\t50\t1522\t3.5\t30\tON\n",
    "[RISHI, SHETTY]\t58\t55\t64\t10\t30\t50\t14\t1494\t3.5\t31\tMI\n",
    "[JOSHUA, PHILIP, MATHEWS]\t61\t8\t44\t18\t51\t26\t13\t1441\t3.5\t32\tON\n",
    "[JADE, GE]\t60\t12\t50\t36\t13\t15\t51\t1449\t3.5\t33\tMI\n",
    "[MICHAEL, JEFFERY, THOMAS]\t6\t60\t37\t29\t25\t11\t52\t1399\t3.5\t34\tMI\n",
    "[JOSHUA, DAVID, LEE]\t46\t38\t56\t6\t57\t52\t48\t1438\t3.5\t35\tMI\n",
    "[SIDDHARTH, JHA]\t13\t57\t51\t33\t0\t16\t28\t1355\t3.5\t36\tMI\n",
    "[AMIYATOSH, PWNANANDAM]\t0\t5\t34\t27\t0\t23\t61\t980\t3.5\t37\tMI\n",
    "[BRIAN, LIU]\t11\t35\t29\t12\t0\t18\t15\t1423\t3.0\t38\tMI\n",
    "[JOEL, R, HENDON]\t1\t54\t40\t16\t44\t21\t24\t1436\t3.0\t39\tMI\n",
    "[FOREST, ZHANG]\t20\t26\t39\t59\t21\t56\t22\t1348\t3.0\t40\tMI\n",
    "[KYLE, WILLIAM, MURPHY]\t59\t17\t58\t20\t0\t0\t0\t1403\t3.0\t41\tMI\n",
    "[JARED, GE]\t12\t50\t57\t60\t61\t64\t56\t1332\t3.0\t42\tMI\n",
    "[ROBERT, GLEN, VASEY]\t21\t23\t24\t63\t59\t46\t55\t1283\t3.0\t43\tMI\n",
    "[JUSTIN, D, SCHILLING]\t0\t14\t32\t53\t39\t24\t59\t1199\t3.0\t44\tMI\n",
    "[DEREK, YAN]\t5\t51\t60\t56\t63\t55\t58\t1242\t3.0\t45\tMI\n",
    "[JACOB, ALEXANDER, LAVALLEY]\t35\t7\t27\t50\t64\t43\t23\t377\t3.0\t46\tMI\n",
    "[ERIC, WRIGHT]\t18\t24\t21\t61\t8\t51\t25\t1362\t2.5\t47\tMI\n",
    "[DANIEL, KHAIN]\t17\t63\t0\t52\t0\t29\t35\t1382\t2.5\t48\tMI\n",
    "[MICHAEL, J, MARTIN]\t26\t20\t63\t64\t58\t0\t0\t1291\t2.5\t49\tMI\n",
    "[SHIVAM, JHA]\t29\t42\t33\t46\t0\t31\t30\t1056\t2.5\t50\tMI\n",
    "[TEJAS, AYYAGARI]\t27\t45\t36\t57\t32\t47\t33\t1011\t2.5\t51\tMI\n",
    "[ETHAN, GUO]\t30\t22\t19\t48\t29\t35\t34\t935\t2.5\t52\tMI\n",
    "[JOSE, C, YBARRA]\t0\t25\t0\t44\t0\t57\t0\t1393\t2.0\t53\tMI\n",
    "[LARRY, HODGE]\t14\t39\t61\t0\t15\t59\t64\t1270\t2.0\t54\tMI\n",
    "[ALEX, KONG]\t62\t31\t10\t30\t0\t45\t43\t1186\t2.0\t55\tMI\n",
    "[MARISA, RICCI]\t0\t11\t35\t45\t0\t40\t42\t1153\t2.0\t56\tMI\n",
    "[MICHAEL, LU]\t7\t36\t42\t51\t35\t53\t0\t1092\t2.0\t57\tMI\n",
    "[VIRAJ, MOHILE]\t31\t2\t41\t23\t49\t0\t45\t917\t2.0\t58\tMI\n",
    "[SEAN, M, MC, CORMICK]\t41\t0\t9\t40\t43\t54\t44\t853\t2.0\t59\tMI\n",
    "[JULIA, SHEN]\t33\t34\t45\t42\t24\t0\t0\t967\t1.5\t60\tMI\n",
    "[JEZZEL, FARKAS]\t32\t3\t54\t47\t42\t30\t37\t955\t1.5\t61\tON\n",
    "[ASHWIN, BALAJI]\t55\t0\t0\t0\t0\t0\t0\t1530\t1.0\t62\tMI\n",
    "[THOMAS, JOSEPH, HOSMER]\t2\t48\t49\t43\t45\t0\t0\t1175\t1.0\t63\tMI\n",
    "[BEN, LI]\t22\t30\t31\t49\t46\t42\t54\t1163\t1.0\t64\tMI"
   ]
  },
  {
   "cell_type": "markdown",
   "id": "27156f68",
   "metadata": {},
   "source": [
    "The dataset has been cleaned! Now we can focus on analyzing the data to calculate player average and format the dataset to feature only Player’s Name, Player’s State, Total Number of Points, Player’s Pre-Rating, and Average Pre Tournament Chess Rating of Opponents."
   ]
  },
  {
   "cell_type": "code",
   "execution_count": null,
   "id": "fc44cf28",
   "metadata": {},
   "outputs": [],
   "source": [
    "# For point average all 7 rounds will need to be pulled.\n",
    "#https://www.geeksforgeeks.org/select-rows-columns-by-name-or-index-in-pandas-dataframe-using-loc-iloc/\n",
    "chess_df.set_index(['Round1', 'Round2', 'Round3', 'Round4', 'Round5', 'Round6', 'Round7'])['Ratings']"
   ]
  },
  {
   "cell_type": "code",
   "execution_count": null,
   "id": "acfcc518",
   "metadata": {},
   "outputs": [],
   "source": [
    "Round1  Round2  Round3  Round4  Round5  Round6  Round7\n",
    "39      21      18      14      7       12      4         1794 \n",
    "63      58      4       17      16      20      7         1553 \n",
    "8       61      25      21      11      13      12        1384 \n",
    "23      28      2       26      5       19      1         1716 \n",
    "45      37      12      13      4       14      17        1655 \n",
    "34      29      11      35      10      27      21        1686 \n",
    "57      46      13      11      1       9       2         1649 \n",
    "3       32      14      9       47      28      19        1641 \n",
    "25      18      59      8       26      7       20        1411 \n",
    "16      19      55      31      6       25      18        1365 \n",
    "38      56      6       7       3       34      26        1712 \n",
    "42      33      5       38      0       1       3         1663 \n",
    "36      27      7       5       33      3       32        1666 \n",
    "54      44      8       1       27      5       31        1610 \n",
    "19      16      30      22      54      33      38        1220 \n",
    "10      15      0       39      2       36      0         1604 \n",
    "48      41      26      2       23      22      5         1629 \n",
    "47      9       1       32      19      38      10        1600 \n",
    "15      10      52      28      18      4       8         1564 \n",
    "40      49      23      41      28      2       9         1595 \n",
    "43      1       47      3       40      39      6         1563 \n",
    "64      52      28      15      0       17      40        1555 \n",
    "4       43      20      58      17      37      46        1363 \n",
    "28      47      43      25      60      44      39        1229 \n",
    "9       53      3       24      34      10      47        1745 \n",
    "49      40      17      4       9       32      11        1579 \n",
    "51      13      46      37      14      6       0         1552 \n",
    "24      4       22      19      20      8       36        1507 \n",
    "50      6       38      34      52      48      0         1602 \n",
    "52      64      15      55      31      61      50        1522 \n",
    "58      55      64      10      30      50      14        1494 \n",
    "61      8       44      18      51      26      13        1441 \n",
    "60      12      50      36      13      15      51        1449 \n",
    "6       60      37      29      25      11      52        1399 \n",
    "46      38      56      6       57      52      48        1438 \n",
    "13      57      51      33      0       16      28        1355 \n",
    "0       5       34      27      0       23      61         980 \n",
    "11      35      29      12      0       18      15        1423 \n",
    "1       54      40      16      44      21      24        1436 \n",
    "20      26      39      59      21      56      22        1348 \n",
    "59      17      58      20      0       0       0         1403 \n",
    "12      50      57      60      61      64      56        1332 \n",
    "21      23      24      63      59      46      55        1283 \n",
    "0       14      32      53      39      24      59        1199 \n",
    "5       51      60      56      63      55      58        1242 \n",
    "35      7       27      50      64      43      23         377 \n",
    "18      24      21      61      8       51      25        1362 \n",
    "17      63      0       52      0       29      35        1382 \n",
    "26      20      63      64      58      0       0         1291 \n",
    "29      42      33      46      0       31      30        1056 \n",
    "27      45      36      57      32      47      33        1011 \n",
    "30      22      19      48      29      35      34         935 \n",
    "0       25      0       44      0       57      0         1393 \n",
    "14      39      61      0       15      59      64        1270 \n",
    "62      31      10      30      0       45      43        1186 \n",
    "0       11      35      45      0       40      42        1153 \n",
    "7       36      42      51      35      53      0         1092 \n",
    "31      2       41      23      49      0       45         917 \n",
    "41      0       9       40      43      54      44         853 \n",
    "33      34      45      42      24      0       0          967 \n",
    "32      3       54      47      42      30      37         955 \n",
    "55      0       0       0       0       0       0         1530 \n",
    "2       48      49      43      45      0       0         1175 \n",
    "22      30      31      49      46      42      54        1163 \n",
    "Name: Ratings, dtype: object"
   ]
  },
  {
   "cell_type": "markdown",
   "id": "583d220d",
   "metadata": {},
   "source": [
    "Great, now let's calculate the average for row."
   ]
  },
  {
   "cell_type": "code",
   "execution_count": null,
   "id": "be7f707b",
   "metadata": {},
   "outputs": [],
   "source": [
    "#Reference websites:\n",
    "#https://cmdlinetips.com/2018/12/how-to-loop-through-pandas-rows-or-how-to-iterate-over-pandas-rows/\n",
    "def parse_series(series):\n",
    "    player_mapping = {}\n",
    "    average_rating = []\n",
    "    for index, row in series.iterrows():\n",
    "        player_mapping[int(row['Player_ID'])] = int(row['Ratings'])\n",
    "    for index, row in series.iterrows():\n",
    "        if row[0] is not None:\n",
    "            try:\n",
    "                key1 = int(row.Round1)\n",
    "                row.Round1 = player_mapping[key1]\n",
    "\n",
    "                key2 = int(row.Round2)\n",
    "                row.Round2 = player_mapping[key2]\n",
    "\n",
    "                key3 = int(row.Round3)\n",
    "                row.Round3 = player_mapping[key3]\n",
    "\n",
    "                key4 = int(row.Round4)\n",
    "                row.Round4 = player_mapping[key4]\n",
    "\n",
    "                key5 = int(row.Round5)\n",
    "                row.Round5 = player_mapping[key5]\n",
    "\n",
    "                key6 = int(row.Round6)\n",
    "                row.Round6 = player_mapping[key6]\n",
    "\n",
    "                key7 = int(row.Round7)\n",
    "                row.Round7 = player_mapping[key7]\n",
    "\n",
    "                total = row.Round1 + row.Round2 + row.Round3 + row.Round4 + row.Round5 + row.Round6 + row.Round7\n",
    "                games = len([row.Round1, row.Round2, row.Round3, row.Round4, row.Round5, row.Round6, row.Round7])\n",
    "                average_rating.append(total/games)\n",
    "            except KeyError:\n",
    "                total = int(row.Round1) + int(row.Round2) + int(row.Round3) + int(row.Round4) + int(row.Round5) + int(row.Round6) + int(row.Round7)\n",
    "                games = len([row.Round1, row.Round2, row.Round3, row.Round4, row.Round5, row.Round6, row.Round7])\n",
    "                average_rating.append(total/games)\n",
    "    return average_rating"
   ]
  },
  {
   "cell_type": "code",
   "execution_count": null,
   "id": "456d1f73",
   "metadata": {},
   "outputs": [],
   "source": [
    "# For the information to be displayed we need to call the parse function\n",
    "average_rate = parse_series(chess_df)\n",
    "#add a column to host the values for average rating\n",
    "chess_df['Average_Rating'] = [n for n in average_rate]"
   ]
  },
  {
   "cell_type": "markdown",
   "id": "e3d97092",
   "metadata": {},
   "source": [
    "All data should now successfully be within the datafram. Now we will pull out Player’s Name, Player’s State, Total Number of Points, Player’s Pre-Rating, and Average Pre Tournament Chess Rating of Opponents and save to a CSV file."
   ]
  },
  {
   "cell_type": "code",
   "execution_count": null,
   "id": "2839d5f9",
   "metadata": {},
   "outputs": [],
   "source": [
    "chess_df.head(5)"
   ]
  },
  {
   "cell_type": "code",
   "execution_count": null,
   "id": "35284d9d",
   "metadata": {},
   "outputs": [],
   "source": [
    "\tRound1\tRound2\tRound3\tRound4\tRound5\tRound6\tRound7\tRatings\tTotal_Points\tPlayer_ID\tState\tPlayer_Names\tAverage_Rating\n",
    "1\t39\t21\t18\t14\t7\t12\t4\t1794\t6.0\t1\tON\t[GARY, HUA]\t1605.285714\n",
    "2\t63\t58\t4\t17\t16\t20\t7\t1553\t6.0\t2\tMI\t[DAKSHESH, DARURI]\t1469.285714\n",
    "3\t8\t61\t25\t21\t11\t13\t12\t1384\t6.0\t3\tMI\t[ADITYA, BAJAJ]\t1563.571429\n",
    "4\t23\t28\t2\t26\t5\t19\t1\t1716\t5.5\t4\tMI\t[PATRICK, H, SCHILLING]\t1573.571429\n",
    "5\t45\t37\t12\t13\t4\t14\t17\t1655\t5.5\t5\tMI\t[HANSHI, ZUO]\t1500.857143"
   ]
  },
  {
   "cell_type": "code",
   "execution_count": null,
   "id": "62488e9a",
   "metadata": {},
   "outputs": [],
   "source": [
    "Chess_df = chess_df[{'Average_Rating','Ratings','Total_Points','State','Player_Names'}]"
   ]
  },
  {
   "cell_type": "code",
   "execution_count": null,
   "id": "dca0e794",
   "metadata": {},
   "outputs": [],
   "source": [
    "C:\\Users\\HP\\AppData\\Local\\Temp\\ipykernel_5736\\3991042833.py:1: FutureWarning: Passing a set as an indexer is deprecated and will raise in a future version. Use a list instead.\n",
    "  Chess_df = chess_df[{'Average_Rating','Ratings','Total_Points','State','Player_Names'}]"
   ]
  },
  {
   "cell_type": "code",
   "execution_count": null,
   "id": "51ba3e50",
   "metadata": {},
   "outputs": [],
   "source": [
    "Chess_df"
   ]
  },
  {
   "cell_type": "code",
   "execution_count": null,
   "id": "97d298a1",
   "metadata": {},
   "outputs": [],
   "source": [
    "\tTotal_Points\tPlayer_Names\tAverage_Rating\tRatings\tState\n",
    "1\t6.0\t[GARY, HUA]\t1605.285714\t1794\tON\n",
    "2\t6.0\t[DAKSHESH, DARURI]\t1469.285714\t1553\tMI\n",
    "3\t6.0\t[ADITYA, BAJAJ]\t1563.571429\t1384\tMI\n",
    "4\t5.5\t[PATRICK, H, SCHILLING]\t1573.571429\t1716\tMI\n",
    "5\t5.5\t[HANSHI, ZUO]\t1500.857143\t1655\tMI\n",
    "6\t5.0\t[HANSEN, SONG]\t1518.714286\t1686\tOH\n",
    "7\t5.0\t[GARY, DEE, SWATHELL]\t1372.142857\t1649\tMI\n",
    "8\t5.0\t[EZEKIEL, HOUGHTON]\t1468.428571\t1641\tMI\n",
    "9\t5.0\t[STEFANO, LEE]\t1523.142857\t1411\tON\n",
    "10\t5.0\t[ANVIT, RAO]\t1554.142857\t1365\tMI\n",
    "11\t4.5\t[CAMERON, WILLIAM, MC, LEMAN]\t1467.571429\t1712\tMI\n",
    "12\t4.5\t[KENNETH, J, TACK]\t837.571429\t1663\tMI\n",
    "13\t4.5\t[TORRANCE, HENRY, JR]\t1497.857143\t1666\tMI\n",
    "14\t4.5\t[BRADLEY, SHAW]\t1515.000000\t1610\tMI\n",
    "15\t4.5\t[ZACHARY, JAMES, HOUGHTON]\t1483.857143\t1220\tMI\n",
    "16\t4.0\t[MIKE, NIKITIN]\t380.285714\t1604\tMI\n",
    "17\t4.0\t[RONALD, GRZEGORCZYK]\t1498.571429\t1629\tMI\n",
    "18\t4.0\t[DAVID, SUNDEEN]\t1480.000000\t1600\tMI\n",
    "19\t4.0\t[DIPANKAR, ROY]\t1426.285714\t1564\tMI\n",
    "20\t4.0\t[JASON, ZHENG]\t1410.857143\t1595\tMI\n",
    "21\t4.0\t[DINH, DANG, BUI]\t1470.428571\t1563\tON\n",
    "22\t4.0\t[EUGENE, L, MCCLURE]\t697.428571\t1555\tMI\n",
    "23\t4.0\t[ALAN, BUI]\t1213.857143\t1363\tON\n",
    "24\t4.0\t[MICHAEL, R, ALDRICH]\t1357.000000\t1229\tMI\n",
    "25\t3.5\t[LOREN, SCHWIEBERT]\t1363.285714\t1745\tMI\n",
    "26\t3.5\t[MAX, ZHU]\t1506.857143\t1579\tON\n",
    "27\t3.5\t[GAURAV, GIDWANI]\t1047.142857\t1552\tMI\n",
    "28\t0.5\t[SOFIA, ADINA, STANESCUBELLU]\t1522.142857\t1507\tMI\n",
    "29\t3.5\t[CHIEDOZIE, OKORIE]\t1125.857143\t1602\tMI\n",
    "30\t3.5\t[GEORGE, AVERY, JONES]\t1144.142857\t1522\tON\n",
    "31\t3.5\t[RISHI, SHETTY]\t1259.857143\t1494\tMI\n",
    "32\t3.5\t[JOSHUA, PHILIP, MATHEWS]\t1378.714286\t1441\tON\n",
    "33\t3.5\t[JADE, GE]\t1276.857143\t1449\tMI\n",
    "34\t3.5\t[MICHAEL, JEFFERY, THOMAS]\t1375.285714\t1399\tMI\n",
    "35\t3.5\t[JOSHUA, DAVID, LEE]\t1149.714286\t1438\tMI\n",
    "36\t3.5\t[SIDDHARTH, JHA]\t751.714286\t1355\tMI\n",
    "37\t3.5\t[AMIYATOSH, PWNANANDAM]\t21.428571\t980\tMI\n",
    "38\t3.0\t[BRIAN, LIU]\t921.142857\t1423\tMI\n",
    "39\t3.0\t[JOEL, R, HENDON]\t1429.571429\t1436\tMI\n",
    "40\t3.0\t[FOREST, ZHANG]\t1390.571429\t1348\tMI\n",
    "41\t3.0\t[KYLE, WILLIAM, MURPHY]\t713.428571\t1403\tMI\n",
    "42\t3.0\t[JARED, GE]\t1149.857143\t1332\tMI\n",
    "43\t3.0\t[ROBERT, GLEN, VASEY]\t1106.571429\t1283\tMI\n",
    "44\t3.0\t[JUSTIN, D, SCHILLING]\t31.571429\t1199\tMI\n",
    "45\t3.0\t[DEREK, YAN]\t1152.000000\t1242\tMI\n",
    "46\t3.0\t[JACOB, ALEXANDER, LAVALLEY]\t1357.714286\t377\tMI\n",
    "47\t2.5\t[ERIC, WRIGHT]\t1392.000000\t1362\tMI\n",
    "48\t2.5\t[DANIEL, KHAIN]\t417.142857\t1382\tMI\n",
    "49\t2.5\t[MICHAEL, J, MARTIN]\t918.428571\t1291\tMI\n",
    "50\t2.5\t[SHIVAM, JHA]\t688.714286\t1056\tMI\n",
    "51\t2.5\t[TEJAS, AYYAGARI]\t1356.142857\t1011\tMI\n",
    "52\t2.5\t[ETHAN, GUO]\t1494.571429\t935\tMI\n",
    "53\t2.0\t[JOSE, C, YBARRA]\t18.000000\t1393\tMI\n",
    "54\t2.0\t[LARRY, HODGE]\t591.285714\t1270\tMI\n",
    "55\t2.0\t[ALEX, KONG]\t857.000000\t1186\tMI\n",
    "56\t2.0\t[MARISA, RICCI]\t24.714286\t1153\tMI\n",
    "57\t2.0\t[MICHAEL, LU]\t1168.285714\t1092\tMI\n",
    "58\t2.0\t[VIRAJ, MOHILE]\t1021.285714\t917\tMI\n",
    "59\t2.0\t[SEAN, M, MC, CORMICK]\t227.571429\t853\tMI\n",
    "60\t1.5\t[JULIA, SHEN]\t950.142857\t967\tMI\n",
    "61\t1.5\t[JEZZEL, FARKAS]\t1327.285714\t955\tON\n",
    "62\t1.0\t[ASHWIN, BALAJI]\t169.428571\t1530\tMI\n",
    "63\t1.0\t[THOMAS, JOSEPH, HOSMER]\t964.428571\t1175\tMI\n",
    "64\t1.0\t[BEN, LI]\t1263.000000\t1163\tMI"
   ]
  },
  {
   "cell_type": "markdown",
   "id": "6a6221d4",
   "metadata": {},
   "source": [
    "Save New Table to CSV file."
   ]
  },
  {
   "cell_type": "code",
   "execution_count": null,
   "id": "991a2b93",
   "metadata": {},
   "outputs": [],
   "source": [
    "Chess_df.to_csv('Chess_results', sep=',', encoding='utf-8')"
   ]
  }
 ],
 "metadata": {
  "kernelspec": {
   "display_name": "Python 3 (ipykernel)",
   "language": "python",
   "name": "python3"
  },
  "language_info": {
   "codemirror_mode": {
    "name": "ipython",
    "version": 3
   },
   "file_extension": ".py",
   "mimetype": "text/x-python",
   "name": "python",
   "nbconvert_exporter": "python",
   "pygments_lexer": "ipython3",
   "version": "3.9.7"
  }
 },
 "nbformat": 4,
 "nbformat_minor": 5
}
